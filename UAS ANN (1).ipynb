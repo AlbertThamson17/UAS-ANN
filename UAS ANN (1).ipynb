{
 "cells": [
  {
   "cell_type": "code",
   "execution_count": 46,
   "metadata": {},
   "outputs": [],
   "source": [
    "from __future__ import division\n",
    "import numpy as np\n",
    "import matplotlib.pyplot as plt\n",
    "from matplotlib import patches as patches"
   ]
  },
  {
   "cell_type": "code",
   "execution_count": 47,
   "metadata": {},
   "outputs": [],
   "source": [
    "# create a dataset with 5 clusters and 2 features\n",
    "data1=np.array([np.ones(1000)*1,np.ones(1000)*2,np.ones(1000)*(-1)])\n",
    "data2=np.array([np.ones(1000)*(-1),np.ones(1000)*3,np.ones(1000)*(-2)])\n",
    "data=np.hstack((data1, data2))\n",
    "data=(data + np.random.rand(3,2000)*0.2)"
   ]
  },
  {
   "cell_type": "code",
   "execution_count": 48,
   "metadata": {},
   "outputs": [],
   "source": [
    "# create map dimension\n",
    "network_dimensions = np.array([5, 1])\n",
    "iterations = 1000\n",
    "learning_rate = 0.5\n",
    "#normalize data\n",
    "normalize_data = True\n",
    "# if True, assume all data on common scale\n",
    "# if False, normalise to [0 1] range along each column\n",
    "normalize_by_column = False\n",
    "# establish variables based on data\n",
    "col = data.shape[0]\n",
    "row = data.shape[1]"
   ]
  },
  {
   "cell_type": "code",
   "execution_count": 49,
   "metadata": {},
   "outputs": [
    {
     "name": "stderr",
     "output_type": "stream",
     "text": [
      "C:\\Users\\Albert\\Anaconda3\\lib\\site-packages\\ipykernel_launcher.py:4: RuntimeWarning: divide by zero encountered in double_scalars\n",
      "  after removing the cwd from sys.path.\n"
     ]
    }
   ],
   "source": [
    "# initial neighbourhood radius\n",
    "radius = 1\n",
    "# radius decay parameter\n",
    "time_constant = iterations / np.log(radius)\n",
    "# check if data needs to be normalised\n",
    "if normalize_data:\n",
    "    if normalize_by_column:\n",
    "        # normalize along each column\n",
    "        col_max = data.max(axis=0)\n",
    "        data = data / col_max[np.newaxis, :]\n",
    "    else:\n",
    "        # normalize entire dataset\n",
    "        data = (data-data.min()) / (data.max()-data.min())"
   ]
  },
  {
   "cell_type": "code",
   "execution_count": 50,
   "metadata": {},
   "outputs": [],
   "source": [
    "# setup weight matrix\n",
    "clust= np.array([[[1.,1.,-1.]],\n",
    "       [[2.,1.,1.]],\n",
    "       [[-1.,2.,-3.]],\n",
    "       [[1.,2.,3.]],\n",
    "       [[1.,1.,3.]]])"
   ]
  },
  {
   "cell_type": "code",
   "execution_count": 51,
   "metadata": {},
   "outputs": [],
   "source": [
    "def find_bmu(train, clust, col):\n",
    "    bmu_idx = np.array([0, 0])\n",
    "    # set the initial minimum distance to a huge number\n",
    "    min_dist = np.iinfo(np.int).max    \n",
    "    # calculate the high-dimensional distance between each neuron and the input\n",
    "    for x in range(clust.shape[0]):\n",
    "        for y in range(clust.shape[1]):\n",
    "            w = net[x, y, :].reshape(col, 1)\n",
    "            # don't bother with actual Euclidean distance, to avoid expensive sqrt operation\n",
    "            sq_dist = np.sum((w - t) ** 2)\n",
    "            if sq_dist < min_dist:\n",
    "                min_dist = sq_dist\n",
    "                bmu_idx = np.array([x, y])\n",
    "    # get vector corresponding to bmu_idx\n",
    "    bmu = clust[bmu_idx[0], bmu_idx[1], :].reshape(col, 1)\n",
    "    # return the (bmu, bmu_idx) tuple\n",
    "    return (bmu, bmu_idx)\n"
   ]
  },
  {
   "cell_type": "code",
   "execution_count": 52,
   "metadata": {},
   "outputs": [],
   "source": [
    "def decay_radius(initial_radius, i, time_constant):\n",
    "    return initial_radius * np.exp(-i / time_constant)"
   ]
  },
  {
   "cell_type": "code",
   "execution_count": 53,
   "metadata": {},
   "outputs": [],
   "source": [
    "def decay_learning_rate(learning_rate, i, iterations):\n",
    "    return learning_rate * np.exp(-i / iterations)"
   ]
  },
  {
   "cell_type": "code",
   "execution_count": 54,
   "metadata": {},
   "outputs": [],
   "source": [
    "def calculate_influence(distance, radius):\n",
    "    return np.exp(-distance / (2* (radius**2)))"
   ]
  },
  {
   "cell_type": "code",
   "execution_count": 61,
   "metadata": {},
   "outputs": [],
   "source": [
    "for i in range(iterations):\n",
    "    # select a training example at random\n",
    "    t = data[:, np.random.randint(0, row)].reshape(np.array([col, 1]))\n",
    "    # find its Best Matching Unit\n",
    "    bmu, bmu_idx = find_bmu(t, clust, col)\n",
    "    # decay the SOM parameters\n",
    "    rang = decay_radius(radius, i, time_constant)\n",
    "    learn = decay_learning_rate(learning_rate, i, iterations)\n",
    "    # now we know the BMU, update its weight vector to move closer to input\n",
    "    # and move its neighbours in 2-D space closer\n",
    "    # by a factor proportional to their 2-D distance from the BMU\n",
    "    for x in range(clust.shape[0]):\n",
    "        for y in range(clust.shape[1]):\n",
    "            weight = clust[x, y, :].reshape(col, 1)\n",
    "            # get the 2-D distance (again, not the actual Euclidean distance)\n",
    "            weight_dist = np.sum((np.array([x, y]) - bmu_idx) ** 2)\n",
    "            # if the distance is within the current neighbourhood radius\n",
    "            if weight_dist <= r**2:\n",
    "                # calculate the degree of influence (based on the 2-D distance)\n",
    "                influence = calculate_influence(weight_dist, rang)\n",
    "                # now update the neuron's weight using the formula:\n",
    "                # new w = old w + (learning rate * influence * delta)\n",
    "                # where delta = input vector (t) - old w\n",
    "                new_weight = weight + (learn * influence * (t - weight))\n",
    "                # commit the new weight\n",
    "                clust[x, y, :] = new_w.reshape(1, 3)"
   ]
  },
  {
   "cell_type": "code",
   "execution_count": 64,
   "metadata": {},
   "outputs": [
    {
     "data": {
      "image/png": "[encoded data removed]",
      "text/plain": [
       "<Figure size 432x288 with 1 Axes>"
      ]
     },
     "metadata": {
      "needs_background": "light"
     },
     "output_type": "display_data"
    }
   ],
   "source": [
    "fig = plt.figure()\n",
    "# setup axes\n",
    "ax = fig.add_subplot(111, aspect='equal')\n",
    "ax.set_xlim((0, clust.shape[0]+1))\n",
    "ax.set_ylim((0, clust.shape[1]+1))\n",
    "ax.set_title('Self-Organising Map after %d iterations' % iterations)\n",
    "# The Plot can be seen asa compression of the 3000x3 dataset into a 5x5x3 map\n",
    "# plot the rectangles\n",
    "for x in range(1, clust.shape[0] + 1):\n",
    "    for y in range(1, clust.shape[1] + 1):\n",
    "        ax.add_patch(patches.Rectangle((x-0.5, y-0.5), 1, 1,\n",
    "                     facecolor=net[x-1,y-1,:],\n",
    "                     edgecolor='none'))\n",
    "plt.show()"
   ]
  },
  {
   "cell_type": "code",
   "execution_count": null,
   "metadata": {},
   "outputs": [],
   "source": []
  },
  {
   "cell_type": "code",
   "execution_count": null,
   "metadata": {},
   "outputs": [],
   "source": []
  },
  {
   "cell_type": "code",
   "execution_count": null,
   "metadata": {},
   "outputs": [],
   "source": []
  },
  {
   "cell_type": "code",
   "execution_count": null,
   "metadata": {},
   "outputs": [],
   "source": []
  }
 ],
 "metadata": {
  "kernelspec": {
   "display_name": "Python 3",
   "language": "python",
   "name": "python3"
  },
  "language_info": {
   "codemirror_mode": {
    "name": "ipython",
    "version": 3
   },
   "file_extension": ".py",
   "mimetype": "text/x-python",
   "name": "python",
   "nbconvert_exporter": "python",
   "pygments_lexer": "ipython3",
   "version": "3.7.4"
  }
 },
 "nbformat": 4,
 "nbformat_minor": 2
}
