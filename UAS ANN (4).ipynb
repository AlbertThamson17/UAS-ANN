{
 "cells": [
  {
   "cell_type": "code",
   "execution_count": 1,
   "metadata": {},
   "outputs": [],
   "source": [
    "#download data\n",
    "import os\n",
    "os.environ['KERAS_BACKEND'] = 'tensorflow'"
   ]
  },
  {
   "cell_type": "code",
   "execution_count": 2,
   "metadata": {},
   "outputs": [
    {
     "name": "stderr",
     "output_type": "stream",
     "text": [
      "Using TensorFlow backend.\n"
     ]
    }
   ],
   "source": [
    "#normalize dataset\n",
    "from keras.datasets import mnist #28x28\n",
    "from keras.utils import np_utils\n",
    "# Load dataset as train and test sets\n",
    "(X_train, Y_train), (X_test, Y_test) = mnist.load_data()\n",
    "# Set numeric type to float32 from uint8\n",
    "X_train = X_train.astype(\"float32\")/255\n",
    "X_test = X_test.astype(\"float32\")/255\n",
    "# Transform lables to one-hot encoding\n",
    "Y_train = np_utils.to_categorical(Y_train, 10)\n",
    "Y_test = np_utils.to_categorical(Y_test, 10)\n",
    "# Reshape the dataset into 4D array\n",
    "X_train = X_train.reshape(X_train.shape[0], 28,28,1)\n",
    "X_test = X_test.reshape(X_test.shape[0], 28,28,1)"
   ]
  },
  {
   "cell_type": "code",
   "execution_count": 3,
   "metadata": {},
   "outputs": [],
   "source": [
    "#defining LeNet-5 Model\n",
    "from keras.models import Sequential\n",
    "from keras import models, layers\n",
    "import keras\n",
    "#initiate empty model\n",
    "model = Sequential()\n",
    "# C1 Convolutional Layer\n",
    "model.add(layers.Conv2D(6, kernel_size=(5, 5), strides=(1, 1), activation=\"tanh\", input_shape=(28,28,1), padding=\"same\"))\n",
    "# S2 Pooling Layer\n",
    "model.add(layers.AveragePooling2D(pool_size=(2, 2), strides=(1, 1), padding=\"valid\"))\n",
    "# C3 Convolutional Layer\n",
    "model.add(layers.Conv2D(16, kernel_size=(5, 5), strides=(1, 1), activation=\"tanh\", padding=\"valid\"))\n",
    "# S4 Pooling Layer\n",
    "model.add(layers.AveragePooling2D(pool_size=(2, 2), strides=(2, 2), padding=\"valid\"))\n",
    "# C5 Fully Connected Convolutional Layer \n",
    "model.add(layers.Conv2D(120, kernel_size=(5, 5), strides=(1, 1), activation=\"tanh\", padding=\"valid\"))\n",
    "#Flatten the CNN output \n",
    "model.add(layers.Flatten())\n",
    "# FC6 Fully Connected Layer\n",
    "#Output layer with tanh activation\n",
    "model.add(layers.Dense(84, activation=\"tanh\"))\n",
    "#Output Layer with softmax activation\n",
    "model.add(layers.Dense(10, activation=\"softmax\"))\n",
    "#Model COmpile\n",
    "model.compile(loss=keras.losses.categorical_crossentropy, optimizer=\"SGD\", metrics=[\"accuracy\"])"
   ]
  },
  {
   "cell_type": "code",
   "execution_count": 4,
   "metadata": {},
   "outputs": [
    {
     "name": "stdout",
     "output_type": "stream",
     "text": [
      "Train on 60000 samples, validate on 10000 samples\n",
      "Epoch 1/10\n",
      "60000/60000 [==============================] - 6s 97us/step - loss: 0.6644 - accuracy: 0.8349 - val_loss: 0.3320 - val_accuracy: 0.9083\n",
      "Epoch 2/10\n",
      "60000/60000 [==============================] - 4s 71us/step - loss: 0.3011 - accuracy: 0.9154 - val_loss: 0.2529 - val_accuracy: 0.9261\n",
      "Epoch 3/10\n",
      "60000/60000 [==============================] - 4s 75us/step - loss: 0.2418 - accuracy: 0.9313 - val_loss: 0.2104 - val_accuracy: 0.9387\n",
      "Epoch 4/10\n",
      "60000/60000 [==============================] - 4s 72us/step - loss: 0.2067 - accuracy: 0.9408 - val_loss: 0.1829 - val_accuracy: 0.9480\n",
      "Epoch 5/10\n",
      "60000/60000 [==============================] - 4s 71us/step - loss: 0.1822 - accuracy: 0.9478 - val_loss: 0.1640 - val_accuracy: 0.9523\n",
      "Epoch 6/10\n",
      "60000/60000 [==============================] - 4s 72us/step - loss: 0.1633 - accuracy: 0.9537 - val_loss: 0.1503 - val_accuracy: 0.9569\n",
      "Epoch 7/10\n",
      "60000/60000 [==============================] - 4s 69us/step - loss: 0.1482 - accuracy: 0.9576 - val_loss: 0.1360 - val_accuracy: 0.9614\n",
      "Epoch 8/10\n",
      "60000/60000 [==============================] - 4s 71us/step - loss: 0.1356 - accuracy: 0.9614 - val_loss: 0.1264 - val_accuracy: 0.9631\n",
      "Epoch 9/10\n",
      "60000/60000 [==============================] - 4s 73us/step - loss: 0.1247 - accuracy: 0.9646 - val_loss: 0.1181 - val_accuracy: 0.9663\n",
      "Epoch 10/10\n",
      "60000/60000 [==============================] - 4s 73us/step - loss: 0.1157 - accuracy: 0.9680 - val_loss: 0.1113 - val_accuracy: 0.9677\n"
     ]
    }
   ],
   "source": [
    "#model Training and Fit\n",
    "hist = model.fit(x=X_train,y=Y_train, epochs=10, batch_size=128, validation_data=(X_test, Y_test), verbose=1)"
   ]
  },
  {
   "cell_type": "code",
   "execution_count": 5,
   "metadata": {},
   "outputs": [
    {
     "name": "stdout",
     "output_type": "stream",
     "text": [
      "10000/10000 [==============================] - 1s 72us/step\n",
      "Loss0.1113,Accuracy96.77%\n",
      "dict_keys(['val_loss', 'val_accuracy', 'loss', 'accuracy'])\n"
     ]
    }
   ],
   "source": [
    "#Evaluating Model and model keys\n",
    "Score = model.evaluate(X_test, Y_test)\n",
    "print(\"Loss{:.4f},Accuracy{:.2f}%\".format(Score[0], Score[1] * 100))\n",
    "print(hist.history.keys())"
   ]
  },
  {
   "cell_type": "code",
   "execution_count": 6,
   "metadata": {},
   "outputs": [
    {
     "data": {
      "text/plain": [
       "Text(0, 0.5, 'acc')"
      ]
     },
     "execution_count": 6,
     "metadata": {},
     "output_type": "execute_result"
    }
   ],
   "source": [
    "import matplotlib.pyplot as plt\n",
    "f, ax = plt.subplots()\n",
    "ax.plot([None] + hist.history[\"accuracy\"], \"o-\")\n",
    "ax.plot([None] + hist.history[\"val_accuracy\"], \"x-\")\n",
    "ax.legend([\"Train Accuracy\", \"Validation Accuracy\"], loc = 0)\n",
    "ax.set_title(\"Training Accuracy and Validation Accuracy per Epoch\")\n",
    "ax.set_xlabel(\"Epoch\")\n",
    "ax.set_ylabel(\"acc\")"
   ]
  },
  {
   "cell_type": "code",
   "execution_count": 7,
   "metadata": {},
   "outputs": [
    {
     "data": {
      "text/plain": [
       "Text(0, 0.5, 'Loss')"
      ]
     },
     "execution_count": 7,
     "metadata": {},
     "output_type": "execute_result"
    },
    {
     "data": {
      "image/png": "[encoded data removed]",
      "text/plain": [
       "<Figure size 432x288 with 1 Axes>"
      ]
     },
     "metadata": {
      "needs_background": "light"
     },
     "output_type": "display_data"
    }
   ],
   "source": [
    "import matplotlib.pyplot as plt\n",
    "f, ax = plt.subplots()\n",
    "ax.plot([None] + hist.history[\"loss\"], \"o-\")\n",
    "ax.plot([None] + hist.history[\"val_loss\"], \"x-\")\n",
    "ax.legend([\"Training Loss\", \"Validation Loss\"], loc = 0)\n",
    "ax.set_title(\"Training Loss and Validation Loss per Epoch\")\n",
    "ax.set_xlabel(\"Epoch\")\n",
    "ax.set_ylabel(\"Loss\")"
   ]
  }
 ],
 "metadata": {
  "kernelspec": {
   "display_name": "Python 3",
   "language": "python",
   "name": "python3"
  },
  "language_info": {
   "codemirror_mode": {
    "name": "ipython",
    "version": 3
   },
   "file_extension": ".py",
   "mimetype": "text/x-python",
   "name": "python",
   "nbconvert_exporter": "python",
   "pygments_lexer": "ipython3",
   "version": "3.7.4"
  }
 },
 "nbformat": 4,
 "nbformat_minor": 2
}
