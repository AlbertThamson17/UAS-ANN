{
 "cells": [
  {
   "cell_type": "code",
   "execution_count": 1,
   "metadata": {},
   "outputs": [],
   "source": [
    "import numpy as np\n",
    "import pandas as pd\n",
    "import matplotlib.pyplot as plt\n",
    "from matplotlib import patches as patches"
   ]
  },
  {
   "cell_type": "code",
   "execution_count": 2,
   "metadata": {},
   "outputs": [],
   "source": [
    "X1 = [1,1,1,1,1,1,1,1,1,1]\n",
    "X2 = [0,0,0,0,0,0,0,1,0,0]\n",
    "X3 = [1,1,1,0,1,0,1,0,1,1]\n",
    "X4 = [1,1,1,0,0,0,0,0,1,1]\n",
    "X5 = [1,1,1,0,0,0,0,0,1,1]\n",
    "X6 = [1,1,1,0,0,0,0,0,1,1]\n",
    "X7 = [1,1,1,0,0,0,0,0,1,1]\n",
    "X8 = [1,1,1,1,1,1,1,0,1,1]\n",
    "X9 = [0,1,1,1,1,1,1,0,1,1]\n",
    "X10 = [1,1,1,1,1,1,1,0,1,1]\n",
    "data = np.array([X1,X2,X3,X4,X5,X6,X7,X8,X9,X10])"
   ]
  },
  {
   "cell_type": "code",
   "execution_count": 33,
   "metadata": {},
   "outputs": [],
   "source": [
    "dataFilter = np.zeros((2,3,3))"
   ]
  },
  {
   "cell_type": "code",
   "execution_count": 42,
   "metadata": {},
   "outputs": [
    {
     "data": {
      "text/plain": [
       "(2, 3, 3)"
      ]
     },
     "execution_count": 42,
     "metadata": {},
     "output_type": "execute_result"
    }
   ],
   "source": [
    "dataFilter[0, :, :] = np.array([[[0, 1/4, 0], \n",
    "                                   [1/4, 1/4, 1/4], \n",
    "                                   [0, 1/4, 0]]])\n",
    "dataFilter[1, :, :] = np.array([[[1,   1,  1], \n",
    "                                   [0,   0,  0], \n",
    "                                   [-1, -1, -1]]])\n",
    "dataFilter.shape"
   ]
  },
  {
   "cell_type": "code",
   "execution_count": 45,
   "metadata": {},
   "outputs": [],
   "source": [
    "#convolution\n",
    "def conv(data, convFilter):\n",
    "    # Check dimension shape\n",
    "    if len(data.shape) != len(convFilter.shape) - 1: \n",
    "        print(\"Error: Number of dimensions in conv filter and image do not match.\")  \n",
    "        exit()\n",
    "    # Check image channel\n",
    "    if len(data.shape) > 2 or len(convFilter.shape) > 3: \n",
    "        if data.shape[-1] != convFilter.shape[-1]:\n",
    "            print(\"Error: Number of channels in both image and filter must match.\")\n",
    "            sys.exit()\n",
    "    # Check filter dimesion\n",
    "    if convFilter.shape[1] != convFilter.shape[2]:\n",
    "        print('Error: Filter must be a square matrix. I.e. number of rows and columns must match.')\n",
    "        sys.exit()\n",
    "    if convFilter.shape[1]%2==0: \n",
    "        print('Error: Filter must have an odd size. I.e. number of rows and columns must be odd.')\n",
    "        sys.exit()\n",
    "\n",
    "    # An empty feature map to hold the output of convolving the filter(s) with the image.\n",
    "    featureMaps = np.zeros((data.shape[0]-convFilter.shape[1]+1, \n",
    "                            data.shape[1]-convFilter.shape[1]+1, \n",
    "                            convFilter.shape[0]))\n",
    "    # Convolving the image by the filter(s).\n",
    "    for filterNum in range(convFilter.shape[0]):\n",
    "        print(\"Filter \", filterNum + 1)\n",
    "        # getting a filter from the bank.\n",
    "        currFilter = convFilter[filterNum, :]\n",
    "        if len(currFilter.shape) > 2:\n",
    "            # Array holding the sum of all feature maps.\n",
    "            convMap = conv_(data[:, :, 0], currFilter[:, :, 0]) \n",
    "            # Convolving each channel with the image and summing the results.\n",
    "            for ch_num in range(1, currFilter.shape[-1]): \n",
    "                convMap = convMap + conv_(data[:, :, chNum], \n",
    "                                  currFilter[:, :, chNum])\n",
    "                 # There is just a single channel in the filter.\n",
    "        else: \n",
    "            convMap = conv_(data, currFilter)\n",
    "            # Holding feature map with the current filter.\n",
    "        featureMaps[:, :, filterNum] = convMap \n",
    "        # Returning all feature maps.\n",
    "    return featureMaps \n",
    "\n",
    "def conv_(data, convFilter):\n",
    "    filterSize = convFilter.shape[1]\n",
    "    result = np.zeros((data.shape))\n",
    "    #Looping through the image to apply the convolution operation.\n",
    "    for r in np.uint16(np.arange(filterSize/2.0, \n",
    "                          data.shape[0]-filterSize/2.0+1)):\n",
    "        for c in np.uint16(np.arange(filterSize/2.0, \n",
    "                                           data.shape[1]-filterSize/2.0+1)):\n",
    "            currRegion = data[r-np.uint16(np.floor(filterSize/2.0)):r+np.uint16(np.ceil(filterSize/2.0)), \n",
    "                              c-np.uint16(np.floor(filterSize/2.0)):c+np.uint16(np.ceil(filterSize/2.0))]\n",
    "            #Element-wise multipliplication between the current region and the filter.\n",
    "            currResult = currRegion * convFilter\n",
    "            #Summing the result of multiplication.\n",
    "            convSum = np.sum(currResult) \n",
    "            #Saving the summation in the convolution layer feature map.\n",
    "            result[r, c] = convSum \n",
    "            \n",
    "    #Clipping the outliers of the result matrix.\n",
    "    finalResult = result[np.uint16(filterSize/2.0):result.shape[0]-np.uint16(filterSize/2.0), \n",
    "                          np.uint16(filterSize/2.0):result.shape[1]-np.uint16(filterSize/2.0)]\n",
    "    return finalResult"
   ]
  },
  {
   "cell_type": "code",
   "execution_count": 46,
   "metadata": {},
   "outputs": [
    {
     "name": "stdout",
     "output_type": "stream",
     "text": [
      "Filter  1\n",
      "Filter  2\n"
     ]
    },
    {
     "data": {
      "text/plain": [
       "(4, 4, 2)"
      ]
     },
     "execution_count": 46,
     "metadata": {},
     "output_type": "execute_result"
    }
   ],
   "source": [
    "dataFeatureMap = conv(data, dataFilter)\n",
    "dataFeatureMap.shape"
   ]
  },
  {
   "cell_type": "code",
   "execution_count": 47,
   "metadata": {},
   "outputs": [
    {
     "data": {
      "image/png": "[encoded data removed]",
      "text/plain": [
       "<Figure size 432x288 with 1 Axes>"
      ]
     },
     "metadata": {
      "needs_background": "light"
     },
     "output_type": "display_data"
    },
    {
     "data": {
      "image/png": "[encoded data removed]",
      "text/plain": [
       "<Figure size 432x288 with 1 Axes>"
      ]
     },
     "metadata": {
      "needs_background": "light"
     },
     "output_type": "display_data"
    }
   ],
   "source": [
    "#relu activation function\n",
    "for i in range(2):\n",
    "    data = dataFeatureMap[:,:,i]\n",
    "    plt.imshow(data) \n",
    "    plt.show()"
   ]
  },
  {
   "cell_type": "code",
   "execution_count": 48,
   "metadata": {},
   "outputs": [],
   "source": [
    "def relu(featureMap):\n",
    "    #Preparing the output of the ReLU activation function.\n",
    "    reluOut = np.zeros(featureMap.shape)\n",
    "    for mapNum in range(featureMap.shape[-1]):\n",
    "        for r in np.arange(0,featureMap.shape[0]):\n",
    "            for c in np.arange(0, featureMap.shape[1]):\n",
    "                reluOut[r, c, mapNum] = np.max([featureMap[r, c, mapNum], 0])\n",
    "    return reluOut"
   ]
  },
  {
   "cell_type": "code",
   "execution_count": 49,
   "metadata": {},
   "outputs": [
    {
     "data": {
      "text/plain": [
       "(4, 4, 2)"
      ]
     },
     "execution_count": 49,
     "metadata": {},
     "output_type": "execute_result"
    }
   ],
   "source": [
    "dataFeatureMap_relu = relu(dataFeatureMap)\n",
    "dataFeatureMap_relu.shape"
   ]
  },
  {
   "cell_type": "code",
   "execution_count": 50,
   "metadata": {},
   "outputs": [
    {
     "data": {
      "image/png": "[encoded data removed]",
      "text/plain": [
       "<Figure size 432x288 with 1 Axes>"
      ]
     },
     "metadata": {
      "needs_background": "light"
     },
     "output_type": "display_data"
    },
    {
     "data": {
      "image/png": "[encoded data removed]",
      "text/plain": [
       "<Figure size 432x288 with 1 Axes>"
      ]
     },
     "metadata": {
      "needs_background": "light"
     },
     "output_type": "display_data"
    }
   ],
   "source": [
    "for i in range(2):\n",
    "    data = dataFeatureMap_relu[:,:,i]\n",
    "    plt.imshow(data) \n",
    "    plt.show()"
   ]
  },
  {
   "cell_type": "code",
   "execution_count": 59,
   "metadata": {},
   "outputs": [],
   "source": [
    "#max pooling step\n",
    "def pooling(featureMap, size=2, stride=2):\n",
    "    #Preparing the output of the pooling operation.\n",
    "    poolOut = np.zeros((np.uint16((featureMap.shape[0]-size+1)/stride+1),\n",
    "                            np.uint16((featureMap.shape[1]-size+1)/stride+1),\n",
    "                            featureMap.shape[-1]))\n",
    "    for mapNum in range(featureMap.shape[-1]):\n",
    "        r2 = 0\n",
    "        for r in np.arange(0,featureMap.shape[0]-size+1, stride):\n",
    "            c2 = 0\n",
    "            for c in np.arange(0, featureMap.shape[1]-size+1, stride):\n",
    "                poolOut[r2, c2, mapNum] = np.max([featureMap[r:r+size,  c:c+size, mapNum]])\n",
    "                c2 = c2 + 1\n",
    "            r2 = r2 +1\n",
    "    return poolOut"
   ]
  },
  {
   "cell_type": "code",
   "execution_count": 60,
   "metadata": {},
   "outputs": [
    {
     "data": {
      "text/plain": [
       "(2, 2, 2)"
      ]
     },
     "execution_count": 60,
     "metadata": {},
     "output_type": "execute_result"
    }
   ],
   "source": [
    "dataFeatureMap_relu_pool = pooling(dataFeatureMap_relu, 2, 2) \n",
    "dataFeatureMap_relu_pool.shape"
   ]
  },
  {
   "cell_type": "code",
   "execution_count": 61,
   "metadata": {},
   "outputs": [
    {
     "data": {
      "image/png": "[encoded data removed]",
      "text/plain": [
       "<Figure size 432x288 with 1 Axes>"
      ]
     },
     "metadata": {
      "needs_background": "light"
     },
     "output_type": "display_data"
    },
    {
     "data": {
      "image/png": "[encoded data removed]",
      "text/plain": [
       "<Figure size 432x288 with 1 Axes>"
      ]
     },
     "metadata": {
      "needs_background": "light"
     },
     "output_type": "display_data"
    }
   ],
   "source": [
    "for i in range(2):\n",
    "    img = dataFeatureMap_relu_pool[:,:,i]\n",
    "    plt.imshow(data) \n",
    "    plt.show()"
   ]
  }
 ],
 "metadata": {
  "kernelspec": {
   "display_name": "Python 3",
   "language": "python",
   "name": "python3"
  },
  "language_info": {
   "codemirror_mode": {
    "name": "ipython",
    "version": 3
   },
   "file_extension": ".py",
   "mimetype": "text/x-python",
   "name": "python",
   "nbconvert_exporter": "python",
   "pygments_lexer": "ipython3",
   "version": "3.7.4"
  }
 },
 "nbformat": 4,
 "nbformat_minor": 4
}
